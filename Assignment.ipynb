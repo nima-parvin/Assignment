{
 "cells": [
  {
   "cell_type": "markdown",
   "id": "576da81a-4878-4ea8-8bf8-96d3c3db7584",
   "metadata": {},
   "source": [
    "# My Jupyter Notebook on IBM Watson Studio"
   ]
  },
  {
   "cell_type": "markdown",
   "id": "a83a217c-7833-4672-b40d-3c3ae1a0ba7e",
   "metadata": {},
   "source": [
    "**Nima Parvin**\n",
    "\n",
    "Market Development Manager"
   ]
  },
  {
   "cell_type": "markdown",
   "id": "de7aeab9-ec84-421b-b3ae-36b45f588362",
   "metadata": {},
   "source": [
    "*I am interested in data science because it can help me find the trends in business and marketing and help me grab better job opportunities.*"
   ]
  },
  {
   "cell_type": "markdown",
   "id": "2d1b7a6d-03ea-4bc8-af25-0d44dacd3a80",
   "metadata": {
    "tags": []
   },
   "source": [
    "### This code will print my name and education. "
   ]
  },
  {
   "cell_type": "code",
   "execution_count": 4,
   "id": "957e1aae-e712-48e4-98e8-6d5958a04359",
   "metadata": {},
   "outputs": [
    {
     "name": "stdout",
     "output_type": "stream",
     "text": [
      "My name is NIMA\n"
     ]
    }
   ],
   "source": [
    "print (\"My name is Nima and education\")"
   ]
  },
  {
   "cell_type": "markdown",
   "id": "39098e63-5465-4830-ae9e-12374c88290d",
   "metadata": {},
   "source": [
    "My Education\n",
    "***\n",
    "| Level    | Year         |     \n",
    "| -------- |:------------:|\n",
    "| PHD      | 2022 |\n",
    "| Master   | 2016 |\n",
    "| Bachelor | 2012 |\n",
    "\n",
    "~~That is it.~~"
   ]
  }
 ],
 "metadata": {
  "kernelspec": {
   "display_name": "Python",
   "language": "python",
   "name": "conda-env-python-py"
  },
  "language_info": {
   "codemirror_mode": {
    "name": "ipython",
    "version": 3
   },
   "file_extension": ".py",
   "mimetype": "text/x-python",
   "name": "python",
   "nbconvert_exporter": "python",
   "pygments_lexer": "ipython3",
   "version": "3.7.12"
  }
 },
 "nbformat": 4,
 "nbformat_minor": 5
}
